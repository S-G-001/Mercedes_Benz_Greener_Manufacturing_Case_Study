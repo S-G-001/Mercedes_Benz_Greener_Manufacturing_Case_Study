{
 "cells": [
  {
   "cell_type": "markdown",
   "metadata": {},
   "source": [
    "# Modeling"
   ]
  },
  {
   "cell_type": "markdown",
   "metadata": {},
   "source": [
    "## 1.) Import necessary packages"
   ]
  },
  {
   "cell_type": "code",
   "execution_count": 15,
   "metadata": {},
   "outputs": [],
   "source": [
    "# Importing necessary packages\n",
    "\n",
    "import pandas as pd\n",
    "import numpy as np\n",
    "\n",
    "import warnings\n",
    "warnings.filterwarnings(\"ignore\")\n",
    "\n",
    "from sklearn.metrics import r2_score\n",
    "from sklearn.model_selection import cross_val_score\n",
    "\n",
    "from sklearn.model_selection import GridSearchCV\n",
    "from sklearn.linear_model import SGDRegressor\n",
    "from sklearn.ensemble import RandomForestRegressor\n",
    "from xgboost import XGBRegressor\n",
    "from prettytable import PrettyTable"
   ]
  },
  {
   "cell_type": "markdown",
   "metadata": {},
   "source": [
    "## 2.) Load & Prepare The Data"
   ]
  },
  {
   "cell_type": "code",
   "execution_count": 16,
   "metadata": {},
   "outputs": [],
   "source": [
    "# Load the featurised data sets previously obtained from Feature_Engineering.ipynb\n",
    "train_data = np.load('featurised_train_data.npy')\n",
    "y_train = np.load('target_variable.npy')\n",
    "test_data = np.load('featurised_test_data.npy')\n",
    "test_raw = pd.read_csv('Data/test_data/test.csv')"
   ]
  },
  {
   "cell_type": "markdown",
   "metadata": {},
   "source": [
    "## 3.) Random Forest"
   ]
  },
  {
   "cell_type": "markdown",
   "metadata": {},
   "source": [
    "### 3.1) Grid Search "
   ]
  },
  {
   "cell_type": "code",
   "execution_count": 17,
   "metadata": {
    "scrolled": true
   },
   "outputs": [
    {
     "name": "stdout",
     "output_type": "stream",
     "text": [
      "Fitting 4 folds for each of 90 candidates, totalling 360 fits\n"
     ]
    },
    {
     "data": {
      "text/plain": [
       "GridSearchCV(cv=4, estimator=RandomForestRegressor(random_state=3),\n",
       "             param_grid={'max_depth': [2, 3, 5, 8, 10, 20],\n",
       "                         'min_samples_split': [2, 3, 4],\n",
       "                         'n_estimators': [5, 10, 20, 30, 40]},\n",
       "             return_train_score=True, scoring='r2', verbose=1)"
      ]
     },
     "execution_count": 17,
     "metadata": {},
     "output_type": "execute_result"
    }
   ],
   "source": [
    "# Perform gridsearchcv \n",
    "\n",
    "parameters = {'n_estimators':[5, 10, 20, 30, 40], 'max_depth': [2,3,5,8,10,20], 'min_samples_split': [2,3,4]}\n",
    "rf_reg = RandomForestRegressor(random_state= 3)\n",
    "\n",
    "Grid = GridSearchCV(estimator = rf_reg, param_grid = parameters, \\\n",
    "                     cv = 4, return_train_score= True, scoring = 'r2', verbose = 1)\n",
    "Grid.fit(train_data,y_train)"
   ]
  },
  {
   "cell_type": "code",
   "execution_count": 18,
   "metadata": {},
   "outputs": [
    {
     "name": "stdout",
     "output_type": "stream",
     "text": [
      "{'max_depth': 2, 'min_samples_split': 2, 'n_estimators': 30}\n"
     ]
    }
   ],
   "source": [
    "# Get the best hyperparameters\n",
    "\n",
    "best_params1 = Grid.best_params_\n",
    "print(best_params1)"
   ]
  },
  {
   "cell_type": "markdown",
   "metadata": {},
   "source": [
    "### 3.2) Train RF Model"
   ]
  },
  {
   "cell_type": "code",
   "execution_count": 19,
   "metadata": {},
   "outputs": [
    {
     "name": "stdout",
     "output_type": "stream",
     "text": [
      "R-squared for training data when using RF:  0.5869\n",
      "R-squared cross validation  when using RF:  0.5838\n"
     ]
    }
   ],
   "source": [
    "# Use the obtained hyperparameters to build the final RF model\n",
    "\n",
    "rf = RandomForestRegressor(random_state= 12, n_estimators= best_params1['n_estimators'], \\\n",
    "                           max_depth= best_params1['max_depth'], min_samples_split= best_params1['min_samples_split'])\n",
    "rf.fit(train_data,y_train)\n",
    "\n",
    "r2_training =  round(r2_score(y_train,rf.predict(train_data)),4)\n",
    "print('R-squared for training data when using RF: ', r2_training)\n",
    "\n",
    "r2_cv = round(np.mean(cross_val_score(rf,train_data,y_train,cv=5, scoring='r2')),4)\n",
    "print('R-squared cross validation  when using RF: ', r2_cv)"
   ]
  },
  {
   "cell_type": "markdown",
   "metadata": {},
   "source": [
    "### 3.3) Get predictions For Test Data"
   ]
  },
  {
   "cell_type": "code",
   "execution_count": 11,
   "metadata": {},
   "outputs": [],
   "source": [
    "# fit the trained RF on test data \n",
    "y_pred_test = rf.predict(test_data)\n",
    "\n",
    "# save the predictions, later to be uploaded to kaggle \n",
    "submission_df = pd.DataFrame({'ID': test_raw['ID'], 'y': y_pred_test})\n",
    "submission_df.to_csv('Submission1_RF.csv')"
   ]
  },
  {
   "cell_type": "markdown",
   "metadata": {},
   "source": [
    "## 4.) XgBoost"
   ]
  },
  {
   "cell_type": "markdown",
   "metadata": {},
   "source": [
    "### 4.1) Grid Search"
   ]
  },
  {
   "cell_type": "code",
   "execution_count": 20,
   "metadata": {
    "scrolled": true
   },
   "outputs": [
    {
     "name": "stdout",
     "output_type": "stream",
     "text": [
      "Fitting 4 folds for each of 960 candidates, totalling 3840 fits\n"
     ]
    },
    {
     "data": {
      "text/plain": [
       "GridSearchCV(cv=4,\n",
       "             estimator=XGBRegressor(base_score=None, booster=None,\n",
       "                                    colsample_bylevel=None,\n",
       "                                    colsample_bynode=None,\n",
       "                                    colsample_bytree=None, gamma=None,\n",
       "                                    gpu_id=None, importance_type='gain',\n",
       "                                    interaction_constraints=None,\n",
       "                                    learning_rate=None, max_delta_step=None,\n",
       "                                    max_depth=None, min_child_weight=None,\n",
       "                                    missing=nan, monotone_constraints=None,\n",
       "                                    n_estimators=100, n_jobs=...\n",
       "                                    num_parallel_tree=None, random_state=3,\n",
       "                                    reg_alpha=None, reg_lambda=None,\n",
       "                                    scale_pos_weight=None, subsample=None,\n",
       "                                    tree_method=None, validate_parameters=None,\n",
       "                                    verbosity=None),\n",
       "             param_grid={'colsample_bytree': [0.1, 0.2, 0.3, 0.4],\n",
       "                         'gamma': [0.0, 0.05, 0.1],\n",
       "                         'learning_rate': (0.05, 0.1, 0.15, 0.2),\n",
       "                         'max_depth': [2, 3, 4, 5, 6],\n",
       "                         'min_child_weight': [3, 5, 7, 10]},\n",
       "             return_train_score=True, scoring='r2', verbose=1)"
      ]
     },
     "execution_count": 20,
     "metadata": {},
     "output_type": "execute_result"
    }
   ],
   "source": [
    "# Perform gridsearchcv \n",
    "\n",
    "parameters = {\"learning_rate\": (0.05, 0.10, 0.15, 0.2), \"max_depth\": [ 2, 3, 4, 5, 6], \"min_child_weight\": [3, 5, 7, 10],\\\n",
    "              \"gamma\":[ 0.0, 0.05, 0.1], \"colsample_bytree\":[ 0.1, 0.2, 0.3, 0.4]}\n",
    "xgb_reg = XGBRegressor(random_state= 3)\n",
    "\n",
    "Grid = GridSearchCV(estimator = xgb_reg, param_grid = parameters, \\\n",
    "                     cv = 4, return_train_score= True, scoring = 'r2', verbose = 1)\n",
    "Grid.fit(train_data,y_train)"
   ]
  },
  {
   "cell_type": "code",
   "execution_count": 22,
   "metadata": {},
   "outputs": [
    {
     "name": "stdout",
     "output_type": "stream",
     "text": [
      "{'colsample_bytree': 0.4, 'gamma': 0.0, 'learning_rate': 0.05, 'max_depth': 2, 'min_child_weight': 7}\n"
     ]
    }
   ],
   "source": [
    "# Get the best hyperparameters\n",
    "\n",
    "best_params2 = Grid.best_params_\n",
    "print(best_params2)"
   ]
  },
  {
   "cell_type": "markdown",
   "metadata": {},
   "source": [
    "### 4.2) Train XGBRegressor"
   ]
  },
  {
   "cell_type": "code",
   "execution_count": 23,
   "metadata": {},
   "outputs": [
    {
     "name": "stdout",
     "output_type": "stream",
     "text": [
      "R-squared for training data when using XGB:  0.6012\n",
      "R-squared cross validation  when using XGB:  0.5907\n"
     ]
    }
   ],
   "source": [
    "xgb_reg = XGBRegressor(learning_rate= best_params2['learning_rate'], max_depth= best_params2['max_depth'], \\\n",
    "                       min_child_weight= best_params2['min_child_weight'], gamma= best_params2['gamma'], \\\n",
    "                       colsample_bytree= best_params2['colsample_bytree'],random_state=3)\n",
    "xgb_reg.fit(train_data,y_train)\n",
    "\n",
    "r2_training =  round(r2_score(y_train,xgb_reg.predict(train_data)),4)\n",
    "print('R-squared for training data when using XGB: ', r2_training)\n",
    "\n",
    "r2_cv = round(np.mean(cross_val_score(xgb_reg,train_data,y_train,cv=5, scoring='r2')),4)\n",
    "print('R-squared cross validation  when using XGB: ', r2_cv)"
   ]
  },
  {
   "cell_type": "markdown",
   "metadata": {},
   "source": [
    "### 4.3) Get predictions For Test Data"
   ]
  },
  {
   "cell_type": "code",
   "execution_count": 24,
   "metadata": {},
   "outputs": [],
   "source": [
    "# fit the trained RF on test data \n",
    "y_pred_test2 = xgb_reg.predict(test_data)\n",
    "\n",
    "# save the predictions, later to be uploaded to kaggle \n",
    "submission_df2 = pd.DataFrame({'ID': test_raw['ID'], 'y': y_pred_test2})\n",
    "submission_df2.to_csv('Submission1_XGB.csv', index=False)"
   ]
  },
  {
   "cell_type": "code",
   "execution_count": null,
   "metadata": {},
   "outputs": [],
   "source": []
  }
 ],
 "metadata": {
  "kernelspec": {
   "display_name": "Python 3",
   "language": "python",
   "name": "python3"
  },
  "language_info": {
   "codemirror_mode": {
    "name": "ipython",
    "version": 3
   },
   "file_extension": ".py",
   "mimetype": "text/x-python",
   "name": "python",
   "nbconvert_exporter": "python",
   "pygments_lexer": "ipython3",
   "version": "3.6.5"
  }
 },
 "nbformat": 4,
 "nbformat_minor": 2
}
